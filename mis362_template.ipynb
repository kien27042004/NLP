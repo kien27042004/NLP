{
  "cells": [
    {
      "cell_type": "markdown",
      "metadata": {
        "id": "3hIuadWBP8f4"
      },
      "source": [
        "# MIS362 Assessment 3 Notebook Template"
      ]
    },
    {
      "cell_type": "markdown",
      "metadata": {
        "id": "v6cCgfN7P8gB"
      },
      "source": [
        "Please use this template to submit code and visualisations for your assessment. Submit this file to your Assignment Dropbox on CloudDeakin.\n",
        "\n",
        "**Rename this file to: 9999999999-FullName.ipynb** where “999999999” is your student ID and “FullName” is your full name. **Penalties may apply if we cannot find your notebook to mark due to naming issues.**\n",
        "\n",
        "Notes:\n",
        "\n",
        "1. Add the code for each question in the corresponding section in this notebook.\n",
        "\n",
        "1. You can add more code cells when necessary.\n",
        "\n",
        "1. You can add text cells and/or using comments to explain your code. This is *optional* because we will not mark your code, but this may help you to better understand your own code.\n",
        "\n",
        "1. If you need to refer to a figure below in your answer, please caption the figure accordingly. This is an example: <br><img src=\"https://ppgweb.s3.us-east-1.amazonaws.com/images/mis362/figure_example.jpg\" style=\"max-width: none;\">"
      ]
    },
    {
      "cell_type": "markdown",
      "metadata": {
        "id": "dMhqNRppS2D-"
      },
      "source": [
        "## Q1"
      ]
    },
    {
      "cell_type": "markdown",
      "metadata": {
        "id": "LdlHkV2ZP8gh"
      },
      "source": [
        "**To start, enter your student number below and run the cell:**"
      ]
    },
    {
      "cell_type": "code",
      "execution_count": null,
      "metadata": {
        "id": "bRD42CTHP8gi"
      },
      "outputs": [],
      "source": [
        "student_number_val = \"Enter your student no. here\"\n",
        "assert student_number_val.isnumeric()\n",
        "print(\"Your student number is:\", student_number_val)"
      ]
    },
    {
      "cell_type": "markdown",
      "metadata": {
        "id": "GQ5RKpPIP8gl"
      },
      "source": [
        "## Q2"
      ]
    },
    {
      "cell_type": "code",
      "execution_count": null,
      "metadata": {
        "id": "r9Mx1_QdP8gm"
      },
      "outputs": [],
      "source": []
    },
    {
      "cell_type": "code",
      "execution_count": null,
      "metadata": {
        "id": "ikU39hpLP8gn"
      },
      "outputs": [],
      "source": []
    },
    {
      "cell_type": "markdown",
      "metadata": {
        "id": "JTfIs92tP8gn"
      },
      "source": [
        "## Q3"
      ]
    },
    {
      "cell_type": "code",
      "execution_count": null,
      "metadata": {
        "id": "c4pHqAh-P8go"
      },
      "outputs": [],
      "source": []
    },
    {
      "cell_type": "code",
      "execution_count": null,
      "metadata": {
        "id": "9M6gQoH6P8gp"
      },
      "outputs": [],
      "source": []
    },
    {
      "cell_type": "markdown",
      "metadata": {
        "id": "iENaUlilP8gq"
      },
      "source": [
        "## Q4"
      ]
    },
    {
      "cell_type": "code",
      "execution_count": null,
      "metadata": {
        "id": "whIaVVN9P8gq"
      },
      "outputs": [],
      "source": []
    },
    {
      "cell_type": "code",
      "execution_count": null,
      "metadata": {
        "id": "TDYrj6j-P8gr"
      },
      "outputs": [],
      "source": []
    }
  ],
  "metadata": {
    "hide_input": false,
    "kernelspec": {
      "display_name": "Python 3",
      "language": "python",
      "name": "python3"
    },
    "language_info": {
      "codemirror_mode": {
        "name": "ipython",
        "version": 3
      },
      "file_extension": ".py",
      "mimetype": "text/x-python",
      "name": "python",
      "nbconvert_exporter": "python",
      "pygments_lexer": "ipython3",
      "version": "3.7.6"
    },
    "colab": {
      "provenance": []
    }
  },
  "nbformat": 4,
  "nbformat_minor": 0
}